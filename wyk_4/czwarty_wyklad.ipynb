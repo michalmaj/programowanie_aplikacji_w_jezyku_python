{
 "cells": [
  {
   "cell_type": "raw",
   "metadata": {},
   "source": [
    "Spis treści:\n",
    "    typy mapujące: dict\n",
    "    funkcje\n",
    "    dokumentacja\n",
    "    wyrażenie lambda"
   ]
  },
  {
   "cell_type": "code",
   "execution_count": null,
   "metadata": {},
   "outputs": [],
   "source": []
  },
  {
   "cell_type": "raw",
   "metadata": {},
   "source": [
    "Złożone typy danych:\n",
    "    typy sekwencyjne (\"mutowalne\"): list\n",
    "    typy sekwencyjne (\"niemutowalne\"): tuple, range, str\n",
    "    \n",
    "    typy mapujące (\"mutowalne\"): dict"
   ]
  },
  {
   "cell_type": "code",
   "execution_count": null,
   "metadata": {},
   "outputs": [],
   "source": []
  },
  {
   "cell_type": "raw",
   "metadata": {},
   "source": [
    "Słownik (dict):\n",
    "    mapuje obiekty hashowalne (hashable) w dowolne obiekty, czyli: klucz: wartość\n",
    "        klucz - stały hash\n",
    "        wartość - dowolny obiekt\n",
    "    krotka może być kluczem, ale lista już nie\n",
    "    słowniki tworzymy umieszczając oddzielone przecinkiem pary key: value w nawiasach klamrowych, np."
   ]
  },
  {
   "cell_type": "code",
   "execution_count": 1,
   "metadata": {},
   "outputs": [
    {
     "name": "stdout",
     "output_type": "stream",
     "text": [
      "{'Kasia': 7236, 'Basia': 5286, 'Marek': 9807, 'Darek': 7738}\n"
     ]
    }
   ],
   "source": [
    "# student: numer indeksu\n",
    "slownik = {\"Kasia\": 7236, \"Basia\": 5286, \"Marek\": 9807, \"Darek\": 7738}\n",
    "\n",
    "print(slownik)"
   ]
  },
  {
   "cell_type": "raw",
   "metadata": {},
   "source": [
    "Tworzenie słownika przez konstruktor:"
   ]
  },
  {
   "cell_type": "code",
   "execution_count": 2,
   "metadata": {},
   "outputs": [
    {
     "data": {
      "text/plain": [
       "True"
      ]
     },
     "execution_count": 2,
     "metadata": {},
     "output_type": "execute_result"
    }
   ],
   "source": [
    "# {key1: value1, key2: value2...}\n",
    "a = {\"jeden\": 1, \"dwa\": 2, \"trzy\": 3}\n",
    "# dict(key1=value1, key2=value2...)\n",
    "b = dict(jeden=1, dwa=2, trzy=3) \n",
    "# dict([(key1, value1), (key2, value2)...])\n",
    "c = dict(zip([\"jeden\", \"dwa\", \"trzy\"], [1, 2, 3]))\n",
    "# dict(słownik)\n",
    "d = dict(a)\n",
    "\n",
    "a == b == c == d"
   ]
  },
  {
   "cell_type": "raw",
   "metadata": {},
   "source": [
    "Słownik - dostęp do wartości:"
   ]
  },
  {
   "cell_type": "code",
   "execution_count": 3,
   "metadata": {},
   "outputs": [
    {
     "data": {
      "text/plain": [
       "7236"
      ]
     },
     "execution_count": 3,
     "metadata": {},
     "output_type": "execute_result"
    }
   ],
   "source": [
    "# student: numer indeksu\n",
    "slownik = {\"Kasia\": 7236, \"Basia\": 5286, \"Marek\": 9807, \"Darek\": 7738}\n",
    "\n",
    "slownik[\"Kasia\"] # dostęp -> dict[key]"
   ]
  },
  {
   "cell_type": "code",
   "execution_count": 4,
   "metadata": {},
   "outputs": [
    {
     "ename": "KeyError",
     "evalue": "0",
     "output_type": "error",
     "traceback": [
      "\u001b[1;31m---------------------------------------------------------------------------\u001b[0m",
      "\u001b[1;31mKeyError\u001b[0m                                  Traceback (most recent call last)",
      "\u001b[1;32m<ipython-input-4-a0014a666550>\u001b[0m in \u001b[0;36m<module>\u001b[1;34m\u001b[0m\n\u001b[1;32m----> 1\u001b[1;33m \u001b[0mslownik\u001b[0m\u001b[1;33m[\u001b[0m\u001b[1;36m0\u001b[0m\u001b[1;33m]\u001b[0m \u001b[1;31m# słownik nie jest uporządkowany\u001b[0m\u001b[1;33m\u001b[0m\u001b[1;33m\u001b[0m\u001b[0m\n\u001b[0m",
      "\u001b[1;31mKeyError\u001b[0m: 0"
     ]
    }
   ],
   "source": [
    "slownik[0] # słownik nie jest uporządkowany"
   ]
  },
  {
   "cell_type": "code",
   "execution_count": 5,
   "metadata": {},
   "outputs": [
    {
     "name": "stdout",
     "output_type": "stream",
     "text": [
      "7236\n"
     ]
    },
    {
     "ename": "KeyError",
     "evalue": "'Ania'",
     "output_type": "error",
     "traceback": [
      "\u001b[1;31m---------------------------------------------------------------------------\u001b[0m",
      "\u001b[1;31mKeyError\u001b[0m                                  Traceback (most recent call last)",
      "\u001b[1;32m<ipython-input-5-a64474391373>\u001b[0m in \u001b[0;36m<module>\u001b[1;34m\u001b[0m\n\u001b[0;32m      3\u001b[0m \u001b[1;33m\u001b[0m\u001b[0m\n\u001b[0;32m      4\u001b[0m \u001b[0mprint\u001b[0m\u001b[1;33m(\u001b[0m\u001b[0mslownik\u001b[0m\u001b[1;33m[\u001b[0m\u001b[1;34m\"Kasia\"\u001b[0m\u001b[1;33m]\u001b[0m\u001b[1;33m)\u001b[0m \u001b[1;31m# Kasia jest w słowniku -> OK\u001b[0m\u001b[1;33m\u001b[0m\u001b[1;33m\u001b[0m\u001b[0m\n\u001b[1;32m----> 5\u001b[1;33m \u001b[0mprint\u001b[0m\u001b[1;33m(\u001b[0m\u001b[0mslownik\u001b[0m\u001b[1;33m[\u001b[0m\u001b[1;34m\"Ania\"\u001b[0m\u001b[1;33m]\u001b[0m\u001b[1;33m)\u001b[0m  \u001b[1;31m# Ani nie ma -> KeyError\u001b[0m\u001b[1;33m\u001b[0m\u001b[1;33m\u001b[0m\u001b[0m\n\u001b[0m",
      "\u001b[1;31mKeyError\u001b[0m: 'Ania'"
     ]
    }
   ],
   "source": [
    "# student: numer indeksu\n",
    "slownik = {\"Kasia\": 7236, \"Basia\": 5286, \"Marek\": 9807, \"Darek\": 7738}\n",
    "\n",
    "print(slownik[\"Kasia\"]) # Kasia jest w słowniku -> OK\n",
    "print(slownik[\"Ania\"])  # Ani nie ma -> KeyError"
   ]
  },
  {
   "cell_type": "code",
   "execution_count": 6,
   "metadata": {},
   "outputs": [
    {
     "name": "stdout",
     "output_type": "stream",
     "text": [
      "7236\n",
      "None\n",
      "1234\n"
     ]
    }
   ],
   "source": [
    "# student: numer indeksu\n",
    "slownik = {\"Kasia\": 7236, \"Basia\": 5286, \"Marek\": 9807, \"Darek\": 7738}\n",
    "\n",
    "print(slownik.get(\"Kasia\")) # Kasia jest w słowniku -> OK\n",
    "print(slownik.get(\"Ania\"))  # Ani nie ma -> default = None\n",
    "print(slownik.get(\"Ania\", 1234)) # Ani nie ma -> default = 1234"
   ]
  },
  {
   "cell_type": "code",
   "execution_count": 7,
   "metadata": {},
   "outputs": [
    {
     "name": "stdout",
     "output_type": "stream",
     "text": [
      "Brak studenta.\n"
     ]
    }
   ],
   "source": [
    "# czemu domyślnie None?\n",
    "if slownik.get(\"Ania\"):\n",
    "    print(slownik[\"Ania\"])\n",
    "else:\n",
    "    print(\"Brak studenta.\")"
   ]
  },
  {
   "cell_type": "raw",
   "metadata": {},
   "source": [
    "Słownik - klucze i wartości:"
   ]
  },
  {
   "cell_type": "code",
   "execution_count": 8,
   "metadata": {},
   "outputs": [],
   "source": [
    "# student: numer indeksu\n",
    "slownik = {\"Kasia\": 7236, \"Basia\": 5286, \"Marek\": 9807, \"Darek\": 7738}"
   ]
  },
  {
   "cell_type": "code",
   "execution_count": 9,
   "metadata": {},
   "outputs": [
    {
     "data": {
      "text/plain": [
       "dict_keys(['Kasia', 'Basia', 'Marek', 'Darek'])"
      ]
     },
     "execution_count": 9,
     "metadata": {},
     "output_type": "execute_result"
    }
   ],
   "source": [
    "slownik.keys() # lista kluczy"
   ]
  },
  {
   "cell_type": "code",
   "execution_count": 10,
   "metadata": {},
   "outputs": [
    {
     "data": {
      "text/plain": [
       "dict_values([7236, 5286, 9807, 7738])"
      ]
     },
     "execution_count": 10,
     "metadata": {},
     "output_type": "execute_result"
    }
   ],
   "source": [
    "slownik.values() # lista wartości"
   ]
  },
  {
   "cell_type": "code",
   "execution_count": 11,
   "metadata": {},
   "outputs": [
    {
     "data": {
      "text/plain": [
       "dict_items([('Kasia', 7236), ('Basia', 5286), ('Marek', 9807), ('Darek', 7738)])"
      ]
     },
     "execution_count": 11,
     "metadata": {},
     "output_type": "execute_result"
    }
   ],
   "source": [
    "slownik.items() # lista par"
   ]
  },
  {
   "cell_type": "code",
   "execution_count": null,
   "metadata": {},
   "outputs": [],
   "source": []
  },
  {
   "cell_type": "raw",
   "metadata": {},
   "source": [
    "Słowniki - różnice Python 2, Python 3\n",
    "    w Pythonie 2 dict.keys(), dict.values() i dict.items() zwracają listy (czyli dopuszczalne jest np. dict.keys()[0])"
   ]
  },
  {
   "cell_type": "code",
   "execution_count": 12,
   "metadata": {},
   "outputs": [
    {
     "data": {
      "text/plain": [
       "False"
      ]
     },
     "execution_count": 12,
     "metadata": {},
     "output_type": "execute_result"
    }
   ],
   "source": [
    "# natomiast w Pythonie 3:\n",
    "import collections # for Iterable\n",
    "\n",
    "# student: numer indeksu\n",
    "slownik = {\"Kasia\": 7236, \"Basia\": 5286, \"Marek\": 9807, \"Darek\": 7738}\n",
    "\n",
    "# slownik.keys()[0] # TypeError: 'dict_keys' object does not support indexing\n",
    "\n",
    "isinstance(slownik.keys(), list)"
   ]
  },
  {
   "cell_type": "code",
   "execution_count": 13,
   "metadata": {},
   "outputs": [
    {
     "data": {
      "text/plain": [
       "True"
      ]
     },
     "execution_count": 13,
     "metadata": {},
     "output_type": "execute_result"
    }
   ],
   "source": [
    "isinstance(slownik, collections.Iterable) # pętla po keys() -> OK"
   ]
  },
  {
   "cell_type": "code",
   "execution_count": null,
   "metadata": {},
   "outputs": [],
   "source": []
  },
  {
   "cell_type": "raw",
   "metadata": {},
   "source": [
    "Modyfikacja kluczy w słowniku:"
   ]
  },
  {
   "cell_type": "code",
   "execution_count": 15,
   "metadata": {},
   "outputs": [
    {
     "name": "stdout",
     "output_type": "stream",
     "text": [
      "{'Kasia': 1234, 'Basia': 5286, 'Marek': 9807, 'Darek': 7738}\n"
     ]
    }
   ],
   "source": [
    "# student: numer indeksu\n",
    "slownik = {\"Kasia\": 7236, \"Basia\": 5286, \"Marek\": 9807, \"Darek\": 7738}\n",
    "\n",
    "slownik[\"Kasia\"] = 1234 # dict[key] = value\n",
    "\n",
    "print(slownik)"
   ]
  },
  {
   "cell_type": "code",
   "execution_count": 16,
   "metadata": {},
   "outputs": [
    {
     "name": "stdout",
     "output_type": "stream",
     "text": [
      "{'Kasia': 1235, 'Basia': 5286, 'Marek': 9807, 'Darek': 7738}\n"
     ]
    }
   ],
   "source": [
    "slownik[\"Kasia\"] += 1 # analogicznie do listy: list[index] - dodaje do wartości klucza \"Kasia\" + 1\n",
    "\n",
    "print(slownik)"
   ]
  },
  {
   "cell_type": "raw",
   "metadata": {},
   "source": [
    "Usuwanie kluczy ze słownika:"
   ]
  },
  {
   "cell_type": "code",
   "execution_count": 17,
   "metadata": {},
   "outputs": [
    {
     "name": "stdout",
     "output_type": "stream",
     "text": [
      "{'Kasia': 7236, 'Basia': 5286, 'Darek': 7738}\n"
     ]
    }
   ],
   "source": [
    "# student: numer indeksu\n",
    "slownik = {\"Kasia\": 7236, \"Basia\": 5286, \"Marek\": 9807, \"Darek\": 7738}\n",
    "\n",
    "del slownik[\"Marek\"] # del dict[key] -> usuń klucz\n",
    "\n",
    "print(slownik)"
   ]
  },
  {
   "cell_type": "code",
   "execution_count": 18,
   "metadata": {},
   "outputs": [
    {
     "name": "stdout",
     "output_type": "stream",
     "text": [
      "{}\n"
     ]
    }
   ],
   "source": [
    "slownik.clear() # wyczyść słownik\n",
    "\n",
    "print(slownik)"
   ]
  },
  {
   "cell_type": "raw",
   "metadata": {},
   "source": [
    "Dodawanie klucza do słownika:"
   ]
  },
  {
   "cell_type": "code",
   "execution_count": 19,
   "metadata": {},
   "outputs": [
    {
     "name": "stdout",
     "output_type": "stream",
     "text": [
      "{'Kasia': 7236, 'Basia': 5286, 'Marek': 9807, 'Darek': 7738, 'Ania': 3384}\n"
     ]
    }
   ],
   "source": [
    "# student: numer indeksu\n",
    "slownik = {\"Kasia\": 7236, \"Basia\": 5286, \"Marek\": 9807, \"Darek\": 7738}\n",
    "\n",
    "slownik[\"Ania\"] = 3384 # jeśli jest to zmień, jeśli nie ma to dodaj\n",
    "\n",
    "print(slownik)"
   ]
  },
  {
   "cell_type": "code",
   "execution_count": 20,
   "metadata": {},
   "outputs": [
    {
     "name": "stdout",
     "output_type": "stream",
     "text": [
      "{'Kasia': 7236, 'Basia': 8573, 'Marek': 9807, 'Darek': 7738, 'Ania': 3384, 'Romek': 3343}\n"
     ]
    }
   ],
   "source": [
    "nowi_studenci = {\"Romek\": 3343, \"Basia\": 8573}\n",
    "\n",
    "slownik.update(nowi_studenci) # \"dodaj/scal\" słowniki\n",
    "\n",
    "print(slownik) # zwróć uwagę na Basię"
   ]
  },
  {
   "cell_type": "code",
   "execution_count": 21,
   "metadata": {},
   "outputs": [
    {
     "name": "stdout",
     "output_type": "stream",
     "text": [
      "{'Kasia': 7236, 'Basia': 8573, 'Marek': 9807, 'Darek': 7738, 'Ania': 3384, 'Romek': 3343, 'Józek': 2276}\n"
     ]
    }
   ],
   "source": [
    "slownik.update(Józek=2276)\n",
    "\n",
    "print(slownik)"
   ]
  },
  {
   "cell_type": "raw",
   "metadata": {},
   "source": [
    "Pętle po słowniku:"
   ]
  },
  {
   "cell_type": "code",
   "execution_count": 22,
   "metadata": {},
   "outputs": [
    {
     "name": "stdout",
     "output_type": "stream",
     "text": [
      "Kasia Basia Marek Darek "
     ]
    }
   ],
   "source": [
    "# student: numer indeksu\n",
    "slownik = {\"Kasia\": 7236, \"Basia\": 5286, \"Marek\": 9807, \"Darek\": 7738}\n",
    "\n",
    "for student in slownik.keys(): # pętla po kluczach\n",
    "    print(student, end=' ')"
   ]
  },
  {
   "cell_type": "code",
   "execution_count": 29,
   "metadata": {},
   "outputs": [
    {
     "name": "stdout",
     "output_type": "stream",
     "text": [
      "7236 5286 9807 7738 "
     ]
    }
   ],
   "source": [
    "for index in slownik.values(): # pętla po wartościach\n",
    "    print(index, end=' ')"
   ]
  },
  {
   "cell_type": "code",
   "execution_count": 23,
   "metadata": {},
   "outputs": [
    {
     "name": "stdout",
     "output_type": "stream",
     "text": [
      "Kasia 7236\n",
      "Basia 5286\n",
      "Marek 9807\n",
      "Darek 7738\n"
     ]
    }
   ],
   "source": [
    "for student, index in slownik.items(): # pętla po (klucz, wartość)\n",
    "    print(student, index)"
   ]
  },
  {
   "cell_type": "raw",
   "metadata": {},
   "source": [
    "Tworzenie słownika - przykład:"
   ]
  },
  {
   "cell_type": "code",
   "execution_count": 24,
   "metadata": {},
   "outputs": [
    {
     "name": "stdin",
     "output_type": "stream",
     "text": [
      "Imię: Marek\n",
      "Nr indeksu: 7895\n",
      "Imię: \n"
     ]
    },
    {
     "name": "stdout",
     "output_type": "stream",
     "text": [
      "{'Marek': '7895'}\n"
     ]
    }
   ],
   "source": [
    "studenci = {} # stwórz pusty słownik\n",
    "\n",
    "while True:\n",
    "    # pobierz imię studenta\n",
    "    student = input(\"Imię:\")\n",
    "    # przerwij jeśli puste\n",
    "    if not student: break # niezalecane, ale możliwe\n",
    "    # pobierz numer indeksu\n",
    "    index = input(\"Nr indeksu:\")\n",
    "    # aktualizuj słownik\n",
    "    studenci.update({student: index})\n",
    "\n",
    "print(studenci)"
   ]
  },
  {
   "cell_type": "raw",
   "metadata": {},
   "source": [
    "Tworzenie słownika w słowniku:"
   ]
  },
  {
   "cell_type": "code",
   "execution_count": 25,
   "metadata": {},
   "outputs": [
    {
     "name": "stdout",
     "output_type": "stream",
     "text": [
      "Kasia ma 20 lat, 190 cm wzrostu i waży 70 kg.\n",
      "Marek ma 22 lat, 180 cm wzrostu i waży 80 kg.\n"
     ]
    }
   ],
   "source": [
    "Kasia = {\"Wiek\": 20, \"Wzrost\": 190, \"Waga\": 70}\n",
    "Marek = {\"Wiek\": 22, \"Wzrost\": 180, \"Waga\": 80}\n",
    "\n",
    "# klucz musi być hashowalny\n",
    "# wartością może być dowolny obieky, np. słownik\n",
    "studenci = {\"Kasia\": Kasia, \"Marek\": Marek}\n",
    "\n",
    "# wydrukuj w pętli wszystkich studentów i ich atrybuty\n",
    "for imie, wlasnosci in studenci.items():\n",
    "    print(\"{student} ma {wiek} lat, \"\n",
    "          \"{wzrost} cm wzrostu \"\n",
    "          \"i waży {waga} kg.\".format(\n",
    "            student=imie,\n",
    "            wiek=studenci[imie][\"Wiek\"],\n",
    "            wzrost=studenci[imie][\"Wzrost\"],\n",
    "            waga=studenci[imie][\"Waga\"])\n",
    "          )"
   ]
  },
  {
   "cell_type": "code",
   "execution_count": null,
   "metadata": {},
   "outputs": [],
   "source": []
  },
  {
   "cell_type": "raw",
   "metadata": {},
   "source": [
    "Funkcje:\n",
    "    funkcje (w programowaniu) to \"wywoływalne bloki instrukcji\"\n",
    "    mogą (ale nie muszą) przyjmować argumenty\n",
    "    mogą (ale nie muszą) zwracać obiekt\n",
    "    raz napisana funkcja może być wykorzystywana wiele razy\n",
    "    zwiększają czytelność kodu\n",
    "    łatwiejsze debugowanie"
   ]
  },
  {
   "cell_type": "raw",
   "metadata": {},
   "source": [
    "Definiowanie funkcji:\n",
    "    słowo kluczowe def\n",
    "    nazwa funkcji\n",
    "    lista argumentów (opcjonalnie)\n",
    "    dwukropek\n",
    "    (wcięte) instrukcje\n",
    "    słowo kluczowe return (opcjonalnie)\n",
    "    \n",
    "        def nazwa_funkcji(argumenty):\n",
    "            instrukcje\n",
    "            ...\n",
    "            return obiekt"
   ]
  },
  {
   "cell_type": "raw",
   "metadata": {},
   "source": [
    "Przykład funkcji:"
   ]
  },
  {
   "cell_type": "code",
   "execution_count": 26,
   "metadata": {},
   "outputs": [
    {
     "name": "stdout",
     "output_type": "stream",
     "text": [
      "Hello World!\n"
     ]
    }
   ],
   "source": [
    "def hello(): # brak argumentów\n",
    "    print(\"Hello World!\")\n",
    "    # nic nie zwraca\n",
    "\n",
    "hello() # wywołanie funkcji"
   ]
  },
  {
   "cell_type": "raw",
   "metadata": {},
   "source": [
    "Argumenty funkcji:"
   ]
  },
  {
   "cell_type": "code",
   "execution_count": 27,
   "metadata": {},
   "outputs": [],
   "source": [
    "# funkcja dzialanie przyjmuje trzy argumenty a, b i c\n",
    "# następnie zwraca wyrażenie a + b - c\n",
    "def dzialanie(a, b, c):\n",
    "    return a + b - c"
   ]
  },
  {
   "cell_type": "code",
   "execution_count": 28,
   "metadata": {},
   "outputs": [
    {
     "data": {
      "text/plain": [
       "6"
      ]
     },
     "execution_count": 28,
     "metadata": {},
     "output_type": "execute_result"
    }
   ],
   "source": [
    "dzialanie(7, 8, 9) # zwróci 7 + 8 - 9"
   ]
  },
  {
   "cell_type": "code",
   "execution_count": 30,
   "metadata": {},
   "outputs": [
    {
     "data": {
      "text/plain": [
       "-11"
      ]
     },
     "execution_count": 30,
     "metadata": {},
     "output_type": "execute_result"
    }
   ],
   "source": [
    "x = 3\n",
    "y = 4\n",
    "\n",
    "dzialanie(x, y, 2*x + 3*y) # zwróci 3 + 4 - 2*3 - 3*4 "
   ]
  },
  {
   "cell_type": "raw",
   "metadata": {},
   "source": [
    "Argumenty funkcji:"
   ]
  },
  {
   "cell_type": "code",
   "execution_count": 31,
   "metadata": {},
   "outputs": [
    {
     "name": "stdin",
     "output_type": "stream",
     "text": [
      "Jak masz na imię?    Paweł\n",
      "Ile masz lat?        150\n"
     ]
    },
    {
     "name": "stdout",
     "output_type": "stream",
     "text": [
      "Paweł 150\n"
     ]
    }
   ],
   "source": [
    "def pobierz(komunikat): # funkcja przyjmuje jeden argument\n",
    "    user_input = input(komunikat.ljust(20)) # metoda ljust() zwraca ciąg surowego wyrównane do lewej, a spacjami do nowego łańcucha określonej długości\n",
    "    return user_input   # zwraca dane użytkownika\n",
    "\n",
    "imie = pobierz(\"Jak masz na imię?\") # komunikat = \"Jak masz na imię?\"\n",
    "wiek = pobierz(\"Ile masz lat?\")     # komunikat = \"Ile masz lat?\"\n",
    "\n",
    "print(imie, wiek)"
   ]
  },
  {
   "cell_type": "raw",
   "metadata": {},
   "source": [
    "Argument ze słowem kuczowym:"
   ]
  },
  {
   "cell_type": "code",
   "execution_count": 32,
   "metadata": {},
   "outputs": [],
   "source": [
    "# funkcja dzialanie przyjmuje trzy argumenty a, b i c\n",
    "# następnie zwraca wyrażenie a + b - c\n",
    "def dzialanie(a, b, c):\n",
    "    return a + b - c"
   ]
  },
  {
   "cell_type": "code",
   "execution_count": 33,
   "metadata": {},
   "outputs": [
    {
     "data": {
      "text/plain": [
       "6"
      ]
     },
     "execution_count": 33,
     "metadata": {},
     "output_type": "execute_result"
    }
   ],
   "source": [
    "dzialanie(7, 8, 9) # 3 argumenty pozycyjne"
   ]
  },
  {
   "cell_type": "code",
   "execution_count": 42,
   "metadata": {},
   "outputs": [
    {
     "data": {
      "text/plain": [
       "6"
      ]
     },
     "execution_count": 42,
     "metadata": {},
     "output_type": "execute_result"
    }
   ],
   "source": [
    "dzialanie(a=7, b=8, c=9) # 3 argumenty kluczowe"
   ]
  },
  {
   "cell_type": "code",
   "execution_count": 34,
   "metadata": {},
   "outputs": [
    {
     "data": {
      "text/plain": [
       "6"
      ]
     },
     "execution_count": 34,
     "metadata": {},
     "output_type": "execute_result"
    }
   ],
   "source": [
    "dzialanie(b=8, c=9, a=7) # kolejność nieważna dla argumentów kluczowych"
   ]
  },
  {
   "cell_type": "raw",
   "metadata": {},
   "source": [
    "Mieszanie argumentów:"
   ]
  },
  {
   "cell_type": "code",
   "execution_count": 35,
   "metadata": {},
   "outputs": [],
   "source": [
    "# funkcja dzialanie przyjmuje trzy argumenty a, b i c\n",
    "# następnie zwraca wyrażenie a + b - c\n",
    "def dzialanie(a, b, c):\n",
    "    return a + b - c"
   ]
  },
  {
   "cell_type": "code",
   "execution_count": 37,
   "metadata": {},
   "outputs": [
    {
     "data": {
      "text/plain": [
       "6"
      ]
     },
     "execution_count": 37,
     "metadata": {},
     "output_type": "execute_result"
    }
   ],
   "source": [
    "dzialanie(7,c = 9, b = 8) # jeden pozycyjny, dwa kluczowe"
   ]
  },
  {
   "cell_type": "code",
   "execution_count": 39,
   "metadata": {},
   "outputs": [
    {
     "ename": "SyntaxError",
     "evalue": "positional argument follows keyword argument (<ipython-input-39-9c6f82e49e16>, line 1)",
     "output_type": "error",
     "traceback": [
      "\u001b[1;36m  File \u001b[1;32m\"<ipython-input-39-9c6f82e49e16>\"\u001b[1;36m, line \u001b[1;32m1\u001b[0m\n\u001b[1;33m    dzialanie(a = 7, b = 8, 9) # najpierw pozycyjne, potem kluczowe!\u001b[0m\n\u001b[1;37m                           ^\u001b[0m\n\u001b[1;31mSyntaxError\u001b[0m\u001b[1;31m:\u001b[0m positional argument follows keyword argument\n"
     ]
    }
   ],
   "source": [
    "dzialanie(a = 7, b = 8, 9) # najpierw pozycyjne, potem kluczowe!"
   ]
  },
  {
   "cell_type": "raw",
   "metadata": {},
   "source": [
    "Domyślne wartości argumentów:"
   ]
  },
  {
   "cell_type": "code",
   "execution_count": 43,
   "metadata": {},
   "outputs": [],
   "source": [
    "def pobierz(komunikat):           # funkcja przyjmuje jeden argument\n",
    "    user_input = input(komunikat) # pobiera dane od użytkownika\n",
    "    return user_input             # i je zwraca"
   ]
  },
  {
   "cell_type": "code",
   "execution_count": 44,
   "metadata": {},
   "outputs": [
    {
     "ename": "TypeError",
     "evalue": "pobierz() missing 1 required positional argument: 'komunikat'",
     "output_type": "error",
     "traceback": [
      "\u001b[1;31m---------------------------------------------------------------------------\u001b[0m",
      "\u001b[1;31mTypeError\u001b[0m                                 Traceback (most recent call last)",
      "\u001b[1;32m<ipython-input-44-523ab034d8c0>\u001b[0m in \u001b[0;36m<module>\u001b[1;34m\u001b[0m\n\u001b[1;32m----> 1\u001b[1;33m \u001b[0mx\u001b[0m \u001b[1;33m=\u001b[0m \u001b[0mpobierz\u001b[0m\u001b[1;33m(\u001b[0m\u001b[1;33m)\u001b[0m \u001b[1;31m# funkcja oczekuje argumentu \"komunikat\"\u001b[0m\u001b[1;33m\u001b[0m\u001b[1;33m\u001b[0m\u001b[0m\n\u001b[0m",
      "\u001b[1;31mTypeError\u001b[0m: pobierz() missing 1 required positional argument: 'komunikat'"
     ]
    }
   ],
   "source": [
    "x = pobierz() # funkcja oczekuje argumentu \"komunikat\""
   ]
  },
  {
   "cell_type": "code",
   "execution_count": 47,
   "metadata": {},
   "outputs": [],
   "source": [
    "# Jak temu zaradzić?:\n",
    "def pobierz(komunikat='> '):      # domyślna wartość = \"> \"\n",
    "    user_input = input(komunikat) # pobiera dane od użytkownika\n",
    "    return user_input             # i je zwraca"
   ]
  },
  {
   "cell_type": "code",
   "execution_count": 48,
   "metadata": {},
   "outputs": [
    {
     "name": "stdin",
     "output_type": "stream",
     "text": [
      ">  1\n"
     ]
    }
   ],
   "source": [
    "x = pobierz() # brak argumentu -> domyślna wartość"
   ]
  },
  {
   "cell_type": "code",
   "execution_count": 45,
   "metadata": {},
   "outputs": [
    {
     "name": "stdin",
     "output_type": "stream",
     "text": [
      "Napisz coś:  1\n"
     ]
    }
   ],
   "source": [
    "x = pobierz(\"Napisz coś: \") # nadpisanie wartości domyślne"
   ]
  },
  {
   "cell_type": "code",
   "execution_count": 49,
   "metadata": {},
   "outputs": [
    {
     "name": "stdin",
     "output_type": "stream",
     "text": [
      " 1\n"
     ]
    }
   ],
   "source": [
    "x = pobierz(\"\") # nadpisanie wartości domyślne"
   ]
  },
  {
   "cell_type": "raw",
   "metadata": {},
   "source": [
    "Wartości domyślne argumentów:"
   ]
  },
  {
   "cell_type": "code",
   "execution_count": 50,
   "metadata": {},
   "outputs": [],
   "source": [
    "# dwa ostatnie argumenty mają wartości domyślne\n",
    "def dzialanie(a, b=8, c=9):\n",
    "    return a + b - c"
   ]
  },
  {
   "cell_type": "code",
   "execution_count": 53,
   "metadata": {},
   "outputs": [
    {
     "data": {
      "text/plain": [
       "True"
      ]
     },
     "execution_count": 53,
     "metadata": {},
     "output_type": "execute_result"
    }
   ],
   "source": [
    "dzialanie(7, 8, 9) == dzialanie(7)"
   ]
  },
  {
   "cell_type": "code",
   "execution_count": 54,
   "metadata": {},
   "outputs": [
    {
     "ename": "SyntaxError",
     "evalue": "non-default argument follows default argument (<ipython-input-54-25f5f58a6341>, line 4)",
     "output_type": "error",
     "traceback": [
      "\u001b[1;36m  File \u001b[1;32m\"<ipython-input-54-25f5f58a6341>\"\u001b[1;36m, line \u001b[1;32m4\u001b[0m\n\u001b[1;33m    def dzialanie(a=1, b, c):\u001b[0m\n\u001b[1;37m                 ^\u001b[0m\n\u001b[1;31mSyntaxError\u001b[0m\u001b[1;31m:\u001b[0m non-default argument follows default argument\n"
     ]
    }
   ],
   "source": [
    "# argumenty bez wartości domyślnych\n",
    "# nie mogą występować po tych\n",
    "# które wartości domyśne posiadają\n",
    "def dzialanie(a=1, b, c):\n",
    "    return a + b - c"
   ]
  },
  {
   "cell_type": "raw",
   "metadata": {},
   "source": [
    "Argumenty typu immutable:"
   ]
  },
  {
   "cell_type": "code",
   "execution_count": 56,
   "metadata": {},
   "outputs": [
    {
     "name": "stdout",
     "output_type": "stream",
     "text": [
      "Przed zwiększeniem x = 0\n",
      "id(x) =  140726947930928\n",
      "wewnątrz funkcji (przed) id(x) = 140726947930928\n",
      "wewnątrz funkcji (po) id(x)= 140726947930960\n",
      "id(x) =  140726947930928\n",
      "Po zwiększeniu x = 0\n"
     ]
    }
   ],
   "source": [
    "def zwieksz(x):\n",
    "    print(\"wewnątrz funkcji (przed) id(x) =\", id(x))\n",
    "    x += 1\n",
    "    print(\"wewnątrz funkcji (po) id(x)=\", id(x))\n",
    "\n",
    "x = 0 # zmienna x wskazuje na dany obszar pamięci\n",
    "\n",
    "print(\"Przed zwiększeniem x =\", x)\n",
    "\n",
    "print(\"id(x) = \", id(x))\n",
    "\n",
    "zwieksz(x)\n",
    "\n",
    "print(\"id(x) = \", id(x))\n",
    "\n",
    "print(\"Po zwiększeniu x =\", x)"
   ]
  },
  {
   "cell_type": "raw",
   "metadata": {},
   "source": [
    "Argumenty typu mutable:"
   ]
  },
  {
   "cell_type": "code",
   "execution_count": 57,
   "metadata": {},
   "outputs": [
    {
     "name": "stdout",
     "output_type": "stream",
     "text": [
      "Przed zwiększeniem x = [0]\n",
      "id(x) =  1398895848136\n",
      "wewnątrz funkcji (przed) id(x) = 1398895848136\n",
      "wewnątrz funkcji (po) id(x) () = 1398895848136\n",
      "id(x) =  1398895848136\n",
      "Po zwiększeniu x = [1]\n"
     ]
    }
   ],
   "source": [
    "def zwieksz(x):\n",
    "    print(\"wewnątrz funkcji (przed) id(x) =\", id(x))\n",
    "    x[0] += 1\n",
    "    print(\"wewnątrz funkcji (po) id(x) () =\", id(x))\n",
    "\n",
    "x = [0] # zmienna x wskazuje na dany obszar pamięci\n",
    "\n",
    "print(\"Przed zwiększeniem x =\", x)\n",
    "\n",
    "print(\"id(x) = \", id(x))\n",
    "\n",
    "zwieksz(x)\n",
    "\n",
    "print(\"id(x) = \", id(x))\n",
    "\n",
    "print(\"Po zwiększeniu x =\", x)"
   ]
  },
  {
   "cell_type": "raw",
   "metadata": {},
   "source": [
    "Wartość domyślna typu mutable:"
   ]
  },
  {
   "cell_type": "code",
   "execution_count": 65,
   "metadata": {},
   "outputs": [
    {
     "name": "stdout",
     "output_type": "stream",
     "text": [
      "[7]\n",
      "[7, 8]\n",
      "[7, 8, 9]\n"
     ]
    }
   ],
   "source": [
    "# wartość domyślna jest inicjowana tylko raz\n",
    "def update(N, L = []):\n",
    "    L.append(N)\n",
    "    return L\n",
    "\n",
    "print(update(7)) # L wskazuje na obszar w pamięci\n",
    "print(update(8)) # i tak już zostaje\n",
    "print(update(9)) # dla każdego kolejnego wywołania"
   ]
  },
  {
   "cell_type": "raw",
   "metadata": {},
   "source": [
    "Rozwiązanie problemu:"
   ]
  },
  {
   "cell_type": "code",
   "execution_count": 66,
   "metadata": {},
   "outputs": [
    {
     "name": "stdout",
     "output_type": "stream",
     "text": [
      "[7]\n",
      "[8]\n",
      "[9]\n"
     ]
    }
   ],
   "source": [
    "def update(N, L = None): # poprawne użycie wartości None\n",
    "    if not L:\n",
    "        L = []\n",
    "    L.append(N)\n",
    "    return L\n",
    "\n",
    "print(update(7)) # z każdym wywołaniem funkcji\n",
    "print(update(8)) # tworzona jest nowa lista\n",
    "print(update(9))"
   ]
  },
  {
   "cell_type": "raw",
   "metadata": {},
   "source": [
    "Dowolna liczba argumentów:"
   ]
  },
  {
   "cell_type": "code",
   "execution_count": 67,
   "metadata": {},
   "outputs": [
    {
     "name": "stdout",
     "output_type": "stream",
     "text": [
      "a b ('c', 'd', 'e', 'f')\n"
     ]
    }
   ],
   "source": [
    "# funkcja przyjmuje dwa \"normalne\" argumenty\n",
    "# z pozostałych powstanie krotka\n",
    "def funkcja(arg1, arg2, *args):\n",
    "    print(arg1, arg2, args)\n",
    "\n",
    "funkcja('a', 'b', 'c', 'd', 'e', 'f')"
   ]
  },
  {
   "cell_type": "raw",
   "metadata": {},
   "source": [
    "Przykład:"
   ]
  },
  {
   "cell_type": "code",
   "execution_count": 72,
   "metadata": {},
   "outputs": [],
   "source": [
    "# średnia z dowolnej liczby argumentów\n",
    "def srednia(*args):\n",
    "    if not args: # brak argumentów -> 0\n",
    "        return 0\n",
    "    return sum(args) / len(args)"
   ]
  },
  {
   "cell_type": "code",
   "execution_count": 73,
   "metadata": {},
   "outputs": [
    {
     "data": {
      "text/plain": [
       "0"
      ]
     },
     "execution_count": 73,
     "metadata": {},
     "output_type": "execute_result"
    }
   ],
   "source": [
    "srednia()"
   ]
  },
  {
   "cell_type": "code",
   "execution_count": 74,
   "metadata": {},
   "outputs": [
    {
     "data": {
      "text/plain": [
       "2.5"
      ]
     },
     "execution_count": 74,
     "metadata": {},
     "output_type": "execute_result"
    }
   ],
   "source": [
    "srednia(1, 2, 3, 4)"
   ]
  },
  {
   "cell_type": "code",
   "execution_count": 75,
   "metadata": {},
   "outputs": [
    {
     "data": {
      "text/plain": [
       "4.5"
      ]
     },
     "execution_count": 75,
     "metadata": {},
     "output_type": "execute_result"
    }
   ],
   "source": [
    "srednia(*range(10))"
   ]
  },
  {
   "cell_type": "raw",
   "metadata": {},
   "source": [
    "key i *args:"
   ]
  },
  {
   "cell_type": "code",
   "execution_count": 68,
   "metadata": {},
   "outputs": [
    {
     "name": "stdout",
     "output_type": "stream",
     "text": [
      "arg1 = a\n",
      "*args = ('b', 'c', 'd')\n",
      "kwarg1 = argument kluczowy\n",
      "kwarg2 = key\n"
     ]
    }
   ],
   "source": [
    "# po *args mogą występować tylko argumenty kluczowe\n",
    "# mogą (ale nie muszą) mieć wartości domyślne\n",
    "def funkcja(arg1, *args, kwarg1, kwarg2=\"key\"):\n",
    "    print(\"arg1 =\", arg1)\n",
    "    print(\"*args =\", args)\n",
    "    print(\"kwarg1 =\", kwarg1)\n",
    "    print(\"kwarg2 =\", kwarg2)\n",
    "\n",
    "funkcja('a', 'b', 'c', 'd', kwarg1=\"argument kluczowy\")"
   ]
  },
  {
   "cell_type": "code",
   "execution_count": 71,
   "metadata": {},
   "outputs": [
    {
     "ename": "TypeError",
     "evalue": "funkcja() missing 1 required keyword-only argument: 'kwarg1'",
     "output_type": "error",
     "traceback": [
      "\u001b[1;31m---------------------------------------------------------------------------\u001b[0m",
      "\u001b[1;31mTypeError\u001b[0m                                 Traceback (most recent call last)",
      "\u001b[1;32m<ipython-input-71-7a5e3673b185>\u001b[0m in \u001b[0;36m<module>\u001b[1;34m\u001b[0m\n\u001b[1;32m----> 1\u001b[1;33m \u001b[0mfunkcja\u001b[0m\u001b[1;33m(\u001b[0m\u001b[1;34m'a'\u001b[0m\u001b[1;33m,\u001b[0m \u001b[1;34m'b'\u001b[0m\u001b[1;33m,\u001b[0m \u001b[1;34m'c'\u001b[0m\u001b[1;33m,\u001b[0m \u001b[1;34m'd'\u001b[0m\u001b[1;33m)\u001b[0m\u001b[1;33m\u001b[0m\u001b[1;33m\u001b[0m\u001b[0m\n\u001b[0m",
      "\u001b[1;31mTypeError\u001b[0m: funkcja() missing 1 required keyword-only argument: 'kwarg1'"
     ]
    }
   ],
   "source": [
    "funkcja('a', 'b', 'c', 'd')"
   ]
  },
  {
   "cell_type": "raw",
   "metadata": {},
   "source": [
    "Dowolna liczba kluczwych argumentów:"
   ]
  },
  {
   "cell_type": "code",
   "execution_count": 76,
   "metadata": {},
   "outputs": [],
   "source": [
    "# *args -> krotka argumentów pozycyjnych\n",
    "# **kwargs -> słownik argumentów kluczowych\n",
    "def funkcja(**kwargs):\n",
    "    for key, value in kwargs.items():\n",
    "        print(key, value, type(value))"
   ]
  },
  {
   "cell_type": "code",
   "execution_count": 77,
   "metadata": {},
   "outputs": [
    {
     "name": "stdout",
     "output_type": "stream",
     "text": [
      "imie Janusz <class 'str'>\n",
      "nazwisko Nosacz <class 'str'>\n",
      "wiek 45 <class 'int'>\n"
     ]
    }
   ],
   "source": [
    "funkcja(imie=\"Janusz\", nazwisko=\"Nosacz\", wiek=45)"
   ]
  },
  {
   "cell_type": "code",
   "execution_count": 78,
   "metadata": {},
   "outputs": [
    {
     "ename": "TypeError",
     "evalue": "funkcja() takes 0 positional arguments but 3 were given",
     "output_type": "error",
     "traceback": [
      "\u001b[1;31m---------------------------------------------------------------------------\u001b[0m",
      "\u001b[1;31mTypeError\u001b[0m                                 Traceback (most recent call last)",
      "\u001b[1;32m<ipython-input-78-85bcb75ac6ba>\u001b[0m in \u001b[0;36m<module>\u001b[1;34m\u001b[0m\n\u001b[0;32m      1\u001b[0m \u001b[1;31m# UWAGA!:\u001b[0m\u001b[1;33m\u001b[0m\u001b[1;33m\u001b[0m\u001b[1;33m\u001b[0m\u001b[0m\n\u001b[1;32m----> 2\u001b[1;33m \u001b[0mfunkcja\u001b[0m\u001b[1;33m(\u001b[0m\u001b[1;34m\"Jan\"\u001b[0m\u001b[1;33m,\u001b[0m \u001b[1;34m\"Kowalski\"\u001b[0m\u001b[1;33m,\u001b[0m \u001b[1;36m25\u001b[0m\u001b[1;33m)\u001b[0m\u001b[1;33m\u001b[0m\u001b[1;33m\u001b[0m\u001b[0m\n\u001b[0m",
      "\u001b[1;31mTypeError\u001b[0m: funkcja() takes 0 positional arguments but 3 were given"
     ]
    }
   ],
   "source": [
    "# UWAGA!:\n",
    "funkcja(\"Jan\", \"Kowalski\", 25)"
   ]
  },
  {
   "cell_type": "raw",
   "metadata": {},
   "source": [
    "Argumenty opcjonalne:"
   ]
  },
  {
   "cell_type": "code",
   "execution_count": 84,
   "metadata": {},
   "outputs": [],
   "source": [
    "def kreator_auta(marka, model, **opcje):\n",
    "    print(marka, model)\n",
    "    for opcja, wartosc in opcje.items():\n",
    "        print(f\"{opcja}: {wartosc}\")"
   ]
  },
  {
   "cell_type": "code",
   "execution_count": 91,
   "metadata": {},
   "outputs": [
    {
     "name": "stdout",
     "output_type": "stream",
     "text": [
      "Honda Civic\n",
      "kolor: czerwony\n",
      "rok_produkcji: 2017\n",
      "moc: 220\n",
      "typ_skrzyni_biegow: automat\n"
     ]
    }
   ],
   "source": [
    "kreator_auta(\"Honda\", \"Civic\", kolor='czerwony', rok_produkcji = 2017, moc = 220, typ_skrzyni_biegow='automat' )"
   ]
  },
  {
   "cell_type": "raw",
   "metadata": {},
   "source": [
    "Argumenty opcjonalne ze słownika:"
   ]
  },
  {
   "cell_type": "code",
   "execution_count": 88,
   "metadata": {},
   "outputs": [],
   "source": [
    "moja_honda = {\"kolor\":\"czerwony\", \"rok produkcji\":2017, \"moc\":220, \"typ skrzyni biegów\":'automat'} # pozwala użyć str jako argumentu"
   ]
  },
  {
   "cell_type": "code",
   "execution_count": 89,
   "metadata": {},
   "outputs": [
    {
     "name": "stdout",
     "output_type": "stream",
     "text": [
      "Honda Civic\n",
      "kolor: czerwony\n",
      "rok produkcji: 2017\n",
      "moc: 220\n",
      "typ skrzyni biegów: automat\n"
     ]
    }
   ],
   "source": [
    "kreator_auta('Honda', 'Civic', **moja_honda)"
   ]
  },
  {
   "cell_type": "code",
   "execution_count": null,
   "metadata": {},
   "outputs": [],
   "source": []
  },
  {
   "cell_type": "raw",
   "metadata": {},
   "source": [
    "Funkcja zwracana przez inną funkcję:"
   ]
  },
  {
   "cell_type": "code",
   "execution_count": 92,
   "metadata": {},
   "outputs": [
    {
     "name": "stdout",
     "output_type": "stream",
     "text": [
      "kwadrat_sumy(2, 3)\n",
      "kwadrat(5)\n",
      "wynik = 25\n"
     ]
    }
   ],
   "source": [
    "def kwadrat(x):\n",
    "    print(\"kwadrat({})\".format(x))\n",
    "    \n",
    "    return x*x\n",
    "\n",
    "def kwadrat_sumy(a, b):\n",
    "    print(\"kwadrat_sumy({}, {})\".format(a, b))\n",
    "    \n",
    "    return kwadrat(a + b) # return może zwrócić inną funkcję\n",
    "\n",
    "wynik = kwadrat_sumy(2, 3)\n",
    "\n",
    "print(\"wynik =\", wynik)"
   ]
  },
  {
   "cell_type": "raw",
   "metadata": {},
   "source": [
    "Wynik funkcji przekazany jako argument innej funkcji:"
   ]
  },
  {
   "cell_type": "code",
   "execution_count": 93,
   "metadata": {},
   "outputs": [
    {
     "name": "stdout",
     "output_type": "stream",
     "text": [
      "kwadrat_sumy(2, 3)\n",
      "suma(2, 3)\n",
      "kwadrat(5)\n",
      "wynik = 25\n"
     ]
    }
   ],
   "source": [
    "def kwadrat(x):\n",
    "    print(\"kwadrat({})\".format(x))\n",
    "    \n",
    "    return x*x\n",
    "\n",
    "def suma(a, b):\n",
    "    print(\"suma({}, {})\".format(a, b))\n",
    "    \n",
    "    return a + b\n",
    "\n",
    "def kwadrat_sumy(a, b):\n",
    "    print(\"kwadrat_sumy({}, {})\".format(a, b))\n",
    "    \n",
    "    return kwadrat(suma(a, b)) # wynik funkcji jest argumentem\n",
    "\n",
    "wynik = kwadrat_sumy(2, 3)\n",
    "\n",
    "print(\"wynik =\", wynik)"
   ]
  },
  {
   "cell_type": "raw",
   "metadata": {},
   "source": [
    "Rekurencja"
   ]
  },
  {
   "cell_type": "code",
   "execution_count": 95,
   "metadata": {},
   "outputs": [
    {
     "name": "stdout",
     "output_type": "stream",
     "text": [
      "silnia bez rekurencji:  120\n"
     ]
    }
   ],
   "source": [
    "# przykład silnia:\n",
    "def silnia(n):\n",
    "    result = 1\n",
    "    while n > 1:\n",
    "        result *= n\n",
    "        n -= 1\n",
    "    return result\n",
    "print(\"silnia bez rekurencji: \", silnia(5))"
   ]
  },
  {
   "cell_type": "code",
   "execution_count": 96,
   "metadata": {},
   "outputs": [
    {
     "name": "stdout",
     "output_type": "stream",
     "text": [
      "silnia przez rekurencję:  120\n"
     ]
    }
   ],
   "source": [
    "def silnia(n):\n",
    "    if n < 2:\n",
    "        return 1 # 0! = 1, 1! = 1\n",
    "    return n*silnia(n - 1)\n",
    "print(\"silnia przez rekurencję: \", silnia(5))"
   ]
  },
  {
   "cell_type": "code",
   "execution_count": null,
   "metadata": {},
   "outputs": [],
   "source": []
  },
  {
   "cell_type": "raw",
   "metadata": {},
   "source": [
    "=========================================================================================================================================================================================\n",
    "                                                                            *** WTRĄCENIE ***"
   ]
  },
  {
   "cell_type": "raw",
   "metadata": {},
   "source": [
    "Zmienne globalne:"
   ]
  },
  {
   "cell_type": "code",
   "execution_count": 99,
   "metadata": {},
   "outputs": [
    {
     "name": "stdout",
     "output_type": "stream",
     "text": [
      "Zmienna globalna przed = Jestem zmienną globaną\n",
      "Wewnątrz funkcji po = Teraz jestm zmienną lokalną\n",
      "Zmienna globalna po = Jestem zmienną globaną\n"
     ]
    }
   ],
   "source": [
    "zmienna_globalna = \"Jestem zmienną globaną\"\n",
    "\n",
    "print(\"Zmienna globalna przed =\", zmienna_globalna)\n",
    "\n",
    "def zmien():\n",
    "    # print(\"Wewnątrz funkcji przed =\", zmienna_globalna) # not assigned yet\n",
    "    zmienna_globalna = \"Teraz jestm zmienną lokalną\" # zmienna_globalna jest zmienną lokalną\n",
    "    print(\"Wewnątrz funkcji po =\", zmienna_globalna)\n",
    "\n",
    "zmien()    \n",
    "\n",
    "print(\"Zmienna globalna po =\", zmienna_globalna)"
   ]
  },
  {
   "cell_type": "code",
   "execution_count": 100,
   "metadata": {},
   "outputs": [
    {
     "name": "stdout",
     "output_type": "stream",
     "text": [
      "Zmienna globalna przed = Jestem zmienną globalną\n",
      "Wewnątrz funkcji przed = Jestem zmienną globalną\n",
      "Wewnątrz funkcji po = Jestem zmienioną zmienną globalną\n",
      "Zmienna globalna po = Jestem zmienioną zmienną globalną\n"
     ]
    }
   ],
   "source": [
    "zmienna_globalna = \"Jestem zmienną globalną\"\n",
    "\n",
    "print(\"Zmienna globalna przed =\", zmienna_globalna)\n",
    "\n",
    "def zmien():\n",
    "    global zmienna_globalna # sygnalizuje, że operujemy na zmiennej globalnej\n",
    "    print(\"Wewnątrz funkcji przed =\", zmienna_globalna)\n",
    "    zmienna_globalna = \"Jestem zmienioną zmienną globalną\"\n",
    "    print(\"Wewnątrz funkcji po =\", zmienna_globalna)\n",
    "\n",
    "zmien()    \n",
    "\n",
    "print(\"Zmienna globalna po =\", zmienna_globalna)"
   ]
  },
  {
   "cell_type": "raw",
   "metadata": {},
   "source": [
    "=========================================================================================================================================================================================\n",
    "                                                                            *** Koniec ***"
   ]
  },
  {
   "cell_type": "code",
   "execution_count": null,
   "metadata": {},
   "outputs": [],
   "source": []
  },
  {
   "cell_type": "raw",
   "metadata": {},
   "source": [
    "Dokumentowanie kodu:\n",
    "    dokumentacja (czyli tzw. docstring) wg standardów PEP 257:\n",
    "        jednolinjkowy opis py \"\"\"Mój opis\"\"\"\n",
    "        wielolinijkowy opis ```py \"\"\"Mój opis\n",
    "                                            więcej opisu \"\"\" ```"
   ]
  },
  {
   "cell_type": "code",
   "execution_count": 103,
   "metadata": {},
   "outputs": [
    {
     "name": "stdout",
     "output_type": "stream",
     "text": [
      "Help on function funkcja in module __main__:\n",
      "\n",
      "funkcja()\n",
      "\n"
     ]
    }
   ],
   "source": [
    "def funkcja():\n",
    "    pass\n",
    "\n",
    "help(funkcja)"
   ]
  },
  {
   "cell_type": "code",
   "execution_count": 104,
   "metadata": {},
   "outputs": [
    {
     "name": "stdout",
     "output_type": "stream",
     "text": [
      "Help on function funkcja in module __main__:\n",
      "\n",
      "funkcja()\n",
      "    Moja funkcja nic nie robi\n",
      "\n"
     ]
    }
   ],
   "source": [
    "def funkcja():\n",
    "    \"\"\"Moja funkcja nic nie robi\"\"\"\n",
    "    pass\n",
    "\n",
    "help(funkcja)"
   ]
  },
  {
   "cell_type": "raw",
   "metadata": {},
   "source": [
    "Dokumentowanie zmiennych:"
   ]
  },
  {
   "cell_type": "code",
   "execution_count": 105,
   "metadata": {},
   "outputs": [],
   "source": [
    "def reszta(a = 0, b = 0):\n",
    "    \"\"\"Zwraca resztę z dzielenia\n",
    "\n",
    "    Keyword arguments:\n",
    "    a -- licznik\n",
    "    b -- mianownik\n",
    "    \"\"\"\n",
    "    if not b:\n",
    "        return 0\n",
    "    return a%b"
   ]
  },
  {
   "cell_type": "code",
   "execution_count": 106,
   "metadata": {},
   "outputs": [
    {
     "name": "stdout",
     "output_type": "stream",
     "text": [
      "Help on function reszta in module __main__:\n",
      "\n",
      "reszta(a=0, b=0)\n",
      "    Zwraca resztę z dzielenia\n",
      "    \n",
      "    Keyword arguments:\n",
      "    a -- licznik\n",
      "    b -- mianownik\n",
      "\n"
     ]
    }
   ],
   "source": [
    "help(reszta)"
   ]
  },
  {
   "cell_type": "code",
   "execution_count": null,
   "metadata": {},
   "outputs": [],
   "source": []
  },
  {
   "cell_type": "raw",
   "metadata": {},
   "source": [
    "Wyrażenie lambda:"
   ]
  },
  {
   "cell_type": "code",
   "execution_count": 107,
   "metadata": {},
   "outputs": [
    {
     "name": "stdout",
     "output_type": "stream",
     "text": [
      "Wywołuję funkcję: <function f at 0x00000277CA63E8C8>\n",
      "Hello World!\n"
     ]
    }
   ],
   "source": [
    "def wrapper(funkcja):\n",
    "    print(\"Wywołuję funkcję:\", funkcja)\n",
    "    funkcja()\n",
    "\n",
    "def f():\n",
    "    print(\"Hello World!\")\n",
    "\n",
    "wrapper(f)"
   ]
  },
  {
   "cell_type": "code",
   "execution_count": 108,
   "metadata": {},
   "outputs": [
    {
     "name": "stdout",
     "output_type": "stream",
     "text": [
      "Wywołuję funkcję: <function <lambda> at 0x00000277CA53BEA0>\n",
      "Hello World!\n"
     ]
    }
   ],
   "source": [
    "wrapper(lambda: print(\"Hello World!\"))"
   ]
  },
  {
   "cell_type": "raw",
   "metadata": {},
   "source": [
    "Wyrażenie lambda"
   ]
  },
  {
   "cell_type": "code",
   "execution_count": 109,
   "metadata": {},
   "outputs": [
    {
     "name": "stdout",
     "output_type": "stream",
     "text": [
      "Teraz tworzę lambdę\n",
      "Teraz tworzę lambdę\n"
     ]
    }
   ],
   "source": [
    "def increase(n):\n",
    "    print(\"Teraz tworzę lambdę\")\n",
    "    return lambda x: x + n\n",
    "\n",
    "inc2 = increase(2) # powiększ o 2\n",
    "inc4 = increase(4) # inc4 = lambda x: x + 4"
   ]
  },
  {
   "cell_type": "code",
   "execution_count": 110,
   "metadata": {},
   "outputs": [
    {
     "data": {
      "text/plain": [
       "12"
      ]
     },
     "execution_count": 110,
     "metadata": {},
     "output_type": "execute_result"
    }
   ],
   "source": [
    "inc2(10)"
   ]
  },
  {
   "cell_type": "code",
   "execution_count": 111,
   "metadata": {},
   "outputs": [
    {
     "data": {
      "text/plain": [
       "14"
      ]
     },
     "execution_count": 111,
     "metadata": {},
     "output_type": "execute_result"
    }
   ],
   "source": [
    "inc4(10)"
   ]
  },
  {
   "cell_type": "code",
   "execution_count": null,
   "metadata": {},
   "outputs": [],
   "source": []
  },
  {
   "cell_type": "raw",
   "metadata": {},
   "source": [
    "Main:"
   ]
  },
  {
   "cell_type": "code",
   "execution_count": 112,
   "metadata": {},
   "outputs": [],
   "source": [
    "# skrypt.py\n",
    "\n",
    "def start():\n",
    "    print(\"Zaczynam program\")\n",
    "\n",
    "def operations():\n",
    "    print(\"Wykonuje obliczenia\")\n",
    "\n",
    "def end():\n",
    "    print(\"Kończę program\")\n",
    "\n",
    "# taki skrypt nic nie zrobi\n",
    "# bo żadna funkcja nie jest wywołana"
   ]
  },
  {
   "cell_type": "code",
   "execution_count": 113,
   "metadata": {},
   "outputs": [
    {
     "name": "stdout",
     "output_type": "stream",
     "text": [
      "Zaczynam program\n",
      "Wykonuje obliczenia\n",
      "Kończę program\n"
     ]
    }
   ],
   "source": [
    "# skrypt.py\n",
    "\n",
    "def start():\n",
    "    print(\"Zaczynam program\")\n",
    "\n",
    "def operations():\n",
    "    print(\"Wykonuje obliczenia\")\n",
    "\n",
    "def end():\n",
    "    print(\"Kończę program\")\n",
    "\n",
    "if __name__ == \"__main__\":\n",
    "    start()\n",
    "    operations()\n",
    "    end()"
   ]
  },
  {
   "cell_type": "code",
   "execution_count": null,
   "metadata": {},
   "outputs": [],
   "source": []
  }
 ],
 "metadata": {
  "kernelspec": {
   "display_name": "Python 3",
   "language": "python",
   "name": "python3"
  },
  "language_info": {
   "codemirror_mode": {
    "name": "ipython",
    "version": 3
   },
   "file_extension": ".py",
   "mimetype": "text/x-python",
   "name": "python",
   "nbconvert_exporter": "python",
   "pygments_lexer": "ipython3",
   "version": "3.7.2"
  }
 },
 "nbformat": 4,
 "nbformat_minor": 2
}
