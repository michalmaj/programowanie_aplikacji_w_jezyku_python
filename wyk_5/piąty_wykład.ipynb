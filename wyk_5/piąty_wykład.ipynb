{
 "cells": [
  {
   "cell_type": "raw",
   "metadata": {},
   "source": [
    "Wykład 5"
   ]
  },
  {
   "cell_type": "code",
   "execution_count": 1,
   "metadata": {},
   "outputs": [
    {
     "name": "stdout",
     "output_type": "stream",
     "text": [
      "5\n",
      "Witaj świecie!\n",
      "Moja funkcja\n"
     ]
    }
   ],
   "source": [
    "# nazwy\n",
    "zmienna = 5 # wskazuje na liczbę całkowitą\n",
    "print(zmienna)\n",
    "zmienna = \"Witaj świecie!\" # wskazuje na str\n",
    "print(zmienna)\n",
    "\n",
    "def funkcja():\n",
    "    print(\"Moja funkcja\")\n",
    "\n",
    "zmienna = funkcja # wskazuje na funkcje\n",
    "zmienna()"
   ]
  },
  {
   "cell_type": "code",
   "execution_count": 3,
   "metadata": {},
   "outputs": [
    {
     "name": "stdout",
     "output_type": "stream",
     "text": [
      "Jestem nadpisaną funkcją\n"
     ]
    }
   ],
   "source": [
    "# nadpisania\n",
    "def moja_funkcja():\n",
    "    print(\"Jestem funkcją\")\n",
    "    \n",
    "def moja_funkcja():\n",
    "    print(\"Jestem nadpisaną funkcją\")\n",
    "    \n",
    "moja_funkcja()"
   ]
  },
  {
   "cell_type": "code",
   "execution_count": 4,
   "metadata": {},
   "outputs": [
    {
     "ename": "TypeError",
     "evalue": "'int' object is not callable",
     "output_type": "error",
     "traceback": [
      "\u001b[1;31m---------------------------------------------------------------------------\u001b[0m",
      "\u001b[1;31mTypeError\u001b[0m                                 Traceback (most recent call last)",
      "\u001b[1;32m<ipython-input-4-03c728d1f33a>\u001b[0m in \u001b[0;36m<module>\u001b[1;34m\u001b[0m\n\u001b[0;32m      1\u001b[0m \u001b[0mmoja_funkcja\u001b[0m \u001b[1;33m=\u001b[0m \u001b[1;36m10\u001b[0m \u001b[1;31m# moja_funkcja wskazuje teraz na liczbę całkowitą\u001b[0m\u001b[1;33m\u001b[0m\u001b[1;33m\u001b[0m\u001b[0m\n\u001b[0;32m      2\u001b[0m \u001b[1;31m# więc, uruchomienie w taki sposób spowoduje błąd\u001b[0m\u001b[1;33m\u001b[0m\u001b[1;33m\u001b[0m\u001b[1;33m\u001b[0m\u001b[0m\n\u001b[1;32m----> 3\u001b[1;33m \u001b[0mmoja_funkcja\u001b[0m\u001b[1;33m(\u001b[0m\u001b[1;33m)\u001b[0m\u001b[1;33m\u001b[0m\u001b[1;33m\u001b[0m\u001b[0m\n\u001b[0m",
      "\u001b[1;31mTypeError\u001b[0m: 'int' object is not callable"
     ]
    }
   ],
   "source": [
    "moja_funkcja = 10 # moja_funkcja wskazuje teraz na liczbę całkowitą\n",
    "# więc, uruchomienie w taki sposób spowoduje błąd\n",
    "moja_funkcja()"
   ]
  },
  {
   "cell_type": "code",
   "execution_count": 5,
   "metadata": {},
   "outputs": [
    {
     "data": {
      "text/plain": [
       "-1.0"
      ]
     },
     "execution_count": 5,
     "metadata": {},
     "output_type": "execute_result"
    }
   ],
   "source": [
    "# importowanie modułów\n",
    "import math\n",
    "\n",
    "math.cos(math.pi)"
   ]
  },
  {
   "cell_type": "code",
   "execution_count": 6,
   "metadata": {},
   "outputs": [
    {
     "data": {
      "text/plain": [
       "-1.0"
      ]
     },
     "execution_count": 6,
     "metadata": {},
     "output_type": "execute_result"
    }
   ],
   "source": [
    "from math import cos, pi\n",
    "\n",
    "cos(pi)"
   ]
  },
  {
   "cell_type": "code",
   "execution_count": 7,
   "metadata": {},
   "outputs": [
    {
     "name": "stdout",
     "output_type": "stream",
     "text": [
      "{'a': 1, 'b': 2}\n"
     ]
    }
   ],
   "source": [
    "# nadpisywanie\n",
    "slownik = dict(a=1,b=2)\n",
    "print(slownik)"
   ]
  },
  {
   "cell_type": "code",
   "execution_count": 8,
   "metadata": {},
   "outputs": [
    {
     "ename": "NameError",
     "evalue": "name 'x' is not defined",
     "output_type": "error",
     "traceback": [
      "\u001b[1;31m---------------------------------------------------------------------------\u001b[0m",
      "\u001b[1;31mNameError\u001b[0m                                 Traceback (most recent call last)",
      "\u001b[1;32m<ipython-input-8-32bf9d365489>\u001b[0m in \u001b[0;36m<module>\u001b[1;34m\u001b[0m\n\u001b[0;32m      3\u001b[0m     \u001b[1;32mreturn\u001b[0m \u001b[0mx\u001b[0m\u001b[1;33m,\u001b[0m\u001b[0my\u001b[0m\u001b[1;33m\u001b[0m\u001b[1;33m\u001b[0m\u001b[0m\n\u001b[0;32m      4\u001b[0m \u001b[1;33m\u001b[0m\u001b[0m\n\u001b[1;32m----> 5\u001b[1;33m \u001b[0mslownik\u001b[0m \u001b[1;33m=\u001b[0m \u001b[0mdict\u001b[0m\u001b[1;33m(\u001b[0m\u001b[0ma\u001b[0m\u001b[1;33m=\u001b[0m\u001b[1;36m1\u001b[0m\u001b[1;33m,\u001b[0m\u001b[0mb\u001b[0m\u001b[1;33m=\u001b[0m\u001b[1;36m2\u001b[0m\u001b[1;33m)\u001b[0m \u001b[1;31m# potraktuje a oraz b jako zmienne\u001b[0m\u001b[1;33m\u001b[0m\u001b[1;33m\u001b[0m\u001b[0m\n\u001b[0m\u001b[0;32m      6\u001b[0m \u001b[0mprint\u001b[0m\u001b[1;33m(\u001b[0m\u001b[0mslownik\u001b[0m\u001b[1;33m)\u001b[0m\u001b[1;33m\u001b[0m\u001b[1;33m\u001b[0m\u001b[0m\n",
      "\u001b[1;32m<ipython-input-8-32bf9d365489>\u001b[0m in \u001b[0;36mdict\u001b[1;34m(a, b)\u001b[0m\n\u001b[0;32m      1\u001b[0m \u001b[1;31m# nadpisanie wbudowanych nazw (slownik)\u001b[0m\u001b[1;33m\u001b[0m\u001b[1;33m\u001b[0m\u001b[1;33m\u001b[0m\u001b[0m\n\u001b[0;32m      2\u001b[0m \u001b[1;32mdef\u001b[0m \u001b[0mdict\u001b[0m\u001b[1;33m(\u001b[0m\u001b[0ma\u001b[0m\u001b[1;33m,\u001b[0m\u001b[0mb\u001b[0m\u001b[1;33m)\u001b[0m\u001b[1;33m:\u001b[0m\u001b[1;33m\u001b[0m\u001b[1;33m\u001b[0m\u001b[0m\n\u001b[1;32m----> 3\u001b[1;33m     \u001b[1;32mreturn\u001b[0m \u001b[0mx\u001b[0m\u001b[1;33m,\u001b[0m\u001b[0my\u001b[0m\u001b[1;33m\u001b[0m\u001b[1;33m\u001b[0m\u001b[0m\n\u001b[0m\u001b[0;32m      4\u001b[0m \u001b[1;33m\u001b[0m\u001b[0m\n\u001b[0;32m      5\u001b[0m \u001b[0mslownik\u001b[0m \u001b[1;33m=\u001b[0m \u001b[0mdict\u001b[0m\u001b[1;33m(\u001b[0m\u001b[0ma\u001b[0m\u001b[1;33m=\u001b[0m\u001b[1;36m1\u001b[0m\u001b[1;33m,\u001b[0m\u001b[0mb\u001b[0m\u001b[1;33m=\u001b[0m\u001b[1;36m2\u001b[0m\u001b[1;33m)\u001b[0m \u001b[1;31m# potraktuje a oraz b jako zmienne\u001b[0m\u001b[1;33m\u001b[0m\u001b[1;33m\u001b[0m\u001b[0m\n",
      "\u001b[1;31mNameError\u001b[0m: name 'x' is not defined"
     ]
    }
   ],
   "source": [
    "# nadpisanie wbudowanych nazw (slownik)\n",
    "def dict(a,b):\n",
    "    return x,y\n",
    "\n",
    "slownik = dict(a=1,b=2) # potraktuje a oraz b jako zmienne\n",
    "print(slownik)"
   ]
  },
  {
   "cell_type": "code",
   "execution_count": 9,
   "metadata": {},
   "outputs": [
    {
     "name": "stdin",
     "output_type": "stream",
     "text": [
      "Once deleted, variables cannot be recovered. Proceed (y/[n])?  y\n"
     ]
    }
   ],
   "source": [
    "# usuwa zmienne z danej sesji\n",
    "%reset"
   ]
  },
  {
   "cell_type": "code",
   "execution_count": 10,
   "metadata": {},
   "outputs": [
    {
     "name": "stdout",
     "output_type": "stream",
     "text": [
      "{'a': 1, 'b': 2}\n"
     ]
    }
   ],
   "source": [
    "# po usunięciu nadpisania\n",
    "slownik = dict(a=1,b=2)\n",
    "print(slownik)"
   ]
  },
  {
   "cell_type": "code",
   "execution_count": null,
   "metadata": {},
   "outputs": [],
   "source": []
  },
  {
   "cell_type": "raw",
   "metadata": {},
   "source": [
    "Przestrzenie nazw"
   ]
  },
  {
   "cell_type": "code",
   "execution_count": 11,
   "metadata": {},
   "outputs": [
    {
     "ename": "NameError",
     "evalue": "name 'moja_zmienna' is not defined",
     "output_type": "error",
     "traceback": [
      "\u001b[1;31m---------------------------------------------------------------------------\u001b[0m",
      "\u001b[1;31mNameError\u001b[0m                                 Traceback (most recent call last)",
      "\u001b[1;32m<ipython-input-11-d0f22cff2c73>\u001b[0m in \u001b[0;36m<module>\u001b[1;34m\u001b[0m\n\u001b[0;32m      4\u001b[0m     \u001b[1;32mreturn\u001b[0m \u001b[0mmoja_zmenna\u001b[0m\u001b[1;33m\u001b[0m\u001b[1;33m\u001b[0m\u001b[0m\n\u001b[0;32m      5\u001b[0m \u001b[1;33m\u001b[0m\u001b[0m\n\u001b[1;32m----> 6\u001b[1;33m \u001b[0mprint\u001b[0m\u001b[1;33m(\u001b[0m\u001b[0mmoja_zmienna\u001b[0m\u001b[1;33m)\u001b[0m\u001b[1;33m\u001b[0m\u001b[1;33m\u001b[0m\u001b[0m\n\u001b[0m",
      "\u001b[1;31mNameError\u001b[0m: name 'moja_zmienna' is not defined"
     ]
    }
   ],
   "source": [
    "# zasięg zmiennech lokalnych\n",
    "def moja_funkcja():\n",
    "    moja_zmienna = 1\n",
    "    return moja_zmenna\n",
    "\n",
    "print(moja_zmienna)"
   ]
  },
  {
   "cell_type": "code",
   "execution_count": 12,
   "metadata": {},
   "outputs": [
    {
     "name": "stdout",
     "output_type": "stream",
     "text": [
      "Zmienna lokalna: Cześć Świecie\n",
      "Zmienna globalna: Witaj Świecie\n"
     ]
    }
   ],
   "source": [
    "# zmienne globalne\n",
    "moja_zmienna = \"Witaj Świecie\"\n",
    "\n",
    "def moja_funkcja():\n",
    "    moja_zmienna = \"Cześć Świecie\"\n",
    "    print(f\"Zmienna lokalna: {moja_zmienna}\")\n",
    "\n",
    "moja_funkcja()\n",
    "print(f\"Zmienna globalna: {moja_zmienna}\")"
   ]
  },
  {
   "cell_type": "code",
   "execution_count": 29,
   "metadata": {},
   "outputs": [
    {
     "ename": "UnboundLocalError",
     "evalue": "local variable 'moja_zmienna' referenced before assignment",
     "output_type": "error",
     "traceback": [
      "\u001b[1;31m---------------------------------------------------------------------------\u001b[0m",
      "\u001b[1;31mUnboundLocalError\u001b[0m                         Traceback (most recent call last)",
      "\u001b[1;32m<ipython-input-29-55a6b3450ada>\u001b[0m in \u001b[0;36m<module>\u001b[1;34m\u001b[0m\n\u001b[0;32m      6\u001b[0m     \u001b[0mprint\u001b[0m\u001b[1;33m(\u001b[0m\u001b[1;34mf\"Zmienna lokalna: {moja_zmienna}\"\u001b[0m\u001b[1;33m)\u001b[0m\u001b[1;33m\u001b[0m\u001b[1;33m\u001b[0m\u001b[0m\n\u001b[0;32m      7\u001b[0m \u001b[1;33m\u001b[0m\u001b[0m\n\u001b[1;32m----> 8\u001b[1;33m \u001b[0mmoja_funkcja\u001b[0m\u001b[1;33m(\u001b[0m\u001b[1;33m)\u001b[0m\u001b[1;33m\u001b[0m\u001b[1;33m\u001b[0m\u001b[0m\n\u001b[0m",
      "\u001b[1;32m<ipython-input-29-55a6b3450ada>\u001b[0m in \u001b[0;36mmoja_funkcja\u001b[1;34m()\u001b[0m\n\u001b[0;32m      2\u001b[0m \u001b[1;33m\u001b[0m\u001b[0m\n\u001b[0;32m      3\u001b[0m \u001b[1;32mdef\u001b[0m \u001b[0mmoja_funkcja\u001b[0m\u001b[1;33m(\u001b[0m\u001b[1;33m)\u001b[0m\u001b[1;33m:\u001b[0m\u001b[1;33m\u001b[0m\u001b[1;33m\u001b[0m\u001b[0m\n\u001b[1;32m----> 4\u001b[1;33m     \u001b[0mprint\u001b[0m\u001b[1;33m(\u001b[0m\u001b[1;34mf\"Zmienna lokalna: {moja_zmienna}\"\u001b[0m\u001b[1;33m)\u001b[0m \u001b[1;31m# spowoduje błąd\u001b[0m\u001b[1;33m\u001b[0m\u001b[1;33m\u001b[0m\u001b[0m\n\u001b[0m\u001b[0;32m      5\u001b[0m     \u001b[0mmoja_zmienna\u001b[0m \u001b[1;33m=\u001b[0m \u001b[1;34m\"Cześć Świecie\"\u001b[0m\u001b[1;33m\u001b[0m\u001b[1;33m\u001b[0m\u001b[0m\n\u001b[0;32m      6\u001b[0m     \u001b[0mprint\u001b[0m\u001b[1;33m(\u001b[0m\u001b[1;34mf\"Zmienna lokalna: {moja_zmienna}\"\u001b[0m\u001b[1;33m)\u001b[0m\u001b[1;33m\u001b[0m\u001b[1;33m\u001b[0m\u001b[0m\n",
      "\u001b[1;31mUnboundLocalError\u001b[0m: local variable 'moja_zmienna' referenced before assignment"
     ]
    }
   ],
   "source": [
    "moja_zmienna = \"Witaj Świecie\"\n",
    "\n",
    "def moja_funkcja():\n",
    "    print(f\"Zmienna lokalna: {moja_zmienna}\") # spowoduje błąd\n",
    "    moja_zmienna = \"Cześć Świecie\"\n",
    "    print(f\"Zmienna lokalna: {moja_zmienna}\")\n",
    "\n",
    "moja_funkcja()"
   ]
  },
  {
   "cell_type": "code",
   "execution_count": 13,
   "metadata": {},
   "outputs": [],
   "source": [
    "# globalne zmeinne\n",
    "x = \"Globalna pierwsza\"\n",
    "y = \"Globalna druga\"\n",
    "z = \"Globalna trzecia\"\n",
    "\n",
    "def moja():\n",
    "    x = \"Lokalna pierwsza\"\n",
    "    y = \"Lokalna druga\"\n",
    "    \n",
    "    def funkcja_w_moja():\n",
    "        x = \"Lokalna pierwsza w funkcja_w_moja\"\n",
    "        print(x,y,z,sep='\\n')\n",
    "    \n",
    "    funkcja_w_moja()"
   ]
  },
  {
   "cell_type": "code",
   "execution_count": 14,
   "metadata": {},
   "outputs": [
    {
     "name": "stdout",
     "output_type": "stream",
     "text": [
      "Lokalna pierwsza w funkcja_w_moja\n",
      "Lokalna druga\n",
      "Globalna trzecia\n"
     ]
    }
   ],
   "source": [
    "moja()"
   ]
  },
  {
   "cell_type": "code",
   "execution_count": 15,
   "metadata": {},
   "outputs": [
    {
     "name": "stdout",
     "output_type": "stream",
     "text": [
      "[10, 20, 30]\n",
      "['a', 'b', 'c', 'x']\n"
     ]
    }
   ],
   "source": [
    "# przesłanianie globalnych zmiennych\n",
    "lista_liczb = [10,20,30]\n",
    "lista_liter = ['a','b','c']\n",
    "\n",
    "def moja_funkcja():\n",
    "    lista_liczb = [1,2,3,4] # zmienna lokalna nie zmieni zmiennej globalnej\n",
    "    lista_liter.append('x') # zmieni zmienną globalną\n",
    "\n",
    "moja_funkcja()\n",
    "print(lista_liczb,lista_liter,sep='\\n')"
   ]
  },
  {
   "cell_type": "code",
   "execution_count": 36,
   "metadata": {},
   "outputs": [
    {
     "name": "stdout",
     "output_type": "stream",
     "text": [
      "Teraz globanla wygląda tak!\n"
     ]
    }
   ],
   "source": [
    "# wymuszanie pracy na zmiennej globalnej\n",
    "\n",
    "zmienna_globalna = \"Moja zmienna\"\n",
    "\n",
    "def praca_na_gobalne():\n",
    "    global zmienna_globalna # praca bezpośrednio na zmiennej globalnej\n",
    "    zmienna_globalna = \"Teraz globanla wygląda tak!\" # modyfikacja zmiennej globalnej\n",
    "    \n",
    "praca_na_gobalne()\n",
    "print(zmienna_globalna)"
   ]
  },
  {
   "cell_type": "code",
   "execution_count": 38,
   "metadata": {},
   "outputs": [
    {
     "name": "stdout",
     "output_type": "stream",
     "text": [
      "W funkcji wewnętrznej zmienna_globalna ma wartość: Moja lokalna w funkcji wewnętrznej\n",
      "Wartość zmienna_globalna w funkcji funcja jest równa: Moja lokalna zmienna\n",
      "zmienna_globalna pozostała bez zmian - Moja zmienna\n"
     ]
    }
   ],
   "source": [
    "# wymuszanie pracy na zmiennej lokalnej\n",
    "\n",
    "zmienna_globalna = \"Moja zmienna\"\n",
    "\n",
    "def funkcja():\n",
    "    zmienna_globalna = \"Moja lokalna zmienna\"\n",
    "    \n",
    "    def funkcja_w_funkcji():\n",
    "        zmienna_globalna = \"Moja lokalna w funkcji wewnętrznej\"\n",
    "        print(f\"W funkcji wewnętrznej zmienna_globalna ma wartość: {zmienna_globalna}\")\n",
    "    \n",
    "    funkcja_w_funkcji()\n",
    "    \n",
    "    print(f\"Wartość zmienna_globalna w funkcji funcja jest równa: {zmienna_globalna}\")\n",
    "    \n",
    "funkcja()\n",
    "\n",
    "print(f\"zmienna_globalna pozostała bez zmian - {zmienna_globalna}\")"
   ]
  },
  {
   "cell_type": "code",
   "execution_count": 43,
   "metadata": {},
   "outputs": [
    {
     "name": "stdout",
     "output_type": "stream",
     "text": [
      "W funkcja_w_funkcji(): Moja lokalna w funkcji wewnętrznej\n",
      "W funkcja(): Moja lokalna zmienna\n",
      "Zmiana zmiennej globalnej Moja lokalna w funkcji wewnętrznej\n"
     ]
    }
   ],
   "source": [
    "# modyfikacja zmiennej globalnej w funkcji werwnąrz funkcji\n",
    "zmienna_globalna = \"Moja zmienna\"\n",
    "\n",
    "def funkcja():\n",
    "    zmienna_globalna = \"Moja lokalna zmienna\"\n",
    "\n",
    "    def funkcja_w_funkcji():\n",
    "        global zmienna_globalna # używaj globalnej\n",
    "        zmienna_globalna = \"Moja lokalna w funkcji wewnętrznej\" # modyfikuje globalną\n",
    "        print(\"W funkcja_w_funkcji():\", zmienna_globalna)\n",
    "\n",
    "    funkcja_w_funkcji()\n",
    "\n",
    "    print(\"W funkcja():\", zmienna_globalna)\n",
    "\n",
    "funkcja()\n",
    "\n",
    "print(\"Zmiana zmiennej globalnej\", zmienna_globalna)"
   ]
  },
  {
   "cell_type": "code",
   "execution_count": 44,
   "metadata": {},
   "outputs": [
    {
     "name": "stdout",
     "output_type": "stream",
     "text": [
      "W funkcja_w_funkcji(): Moja lokalna w funkcji wewnętrznej\n",
      "W funkcja(): Moja lokalna w funkcji wewnętrznej\n",
      "Zmiana zmiennej globalnej Moja zmienna\n"
     ]
    }
   ],
   "source": [
    "# nonlocal\n",
    "zmienna_globalna = \"Moja zmienna\" # globalna\n",
    "\n",
    "def funkcja():\n",
    "    zmienna_globalna = \"Moja lokalna zmienna\"\n",
    "\n",
    "    def funkcja_w_funkcji():\n",
    "        nonlocal zmienna_globalna # użyj z poprzedniego zagnieżdżenia\n",
    "        zmienna_globalna = \"Moja lokalna w funkcji wewnętrznej\" # modyfikuje zmienna_globalna z funkcja()\n",
    "        print(\"W funkcja_w_funkcji():\", zmienna_globalna)\n",
    "\n",
    "    funkcja_w_funkcji()\n",
    "\n",
    "    print(\"W funkcja():\", zmienna_globalna)\n",
    "\n",
    "funkcja()\n",
    "\n",
    "print(\"Zmiana zmiennej globalnej\", zmienna_globalna)"
   ]
  },
  {
   "cell_type": "code",
   "execution_count": null,
   "metadata": {},
   "outputs": [],
   "source": []
  },
  {
   "cell_type": "raw",
   "metadata": {},
   "source": [
    "Zasięgi zmiennych"
   ]
  },
  {
   "cell_type": "code",
   "execution_count": 51,
   "metadata": {},
   "outputs": [
    {
     "ename": "NameError",
     "evalue": "name 'log' is not defined",
     "output_type": "error",
     "traceback": [
      "\u001b[1;31m---------------------------------------------------------------------------\u001b[0m",
      "\u001b[1;31mNameError\u001b[0m                                 Traceback (most recent call last)",
      "\u001b[1;32m<ipython-input-51-88f0e2744d27>\u001b[0m in \u001b[0;36m<module>\u001b[1;34m\u001b[0m\n\u001b[0;32m     14\u001b[0m \u001b[0mh\u001b[0m \u001b[1;33m=\u001b[0m \u001b[0mcos\u001b[0m\u001b[1;33m(\u001b[0m\u001b[1;36m5\u001b[0m\u001b[1;33m)\u001b[0m\u001b[1;33m\u001b[0m\u001b[1;33m\u001b[0m\u001b[0m\n\u001b[0;32m     15\u001b[0m \u001b[1;33m\u001b[0m\u001b[0m\n\u001b[1;32m---> 16\u001b[1;33m \u001b[0mtest\u001b[0m \u001b[1;33m=\u001b[0m \u001b[0mlog\u001b[0m\u001b[1;33m(\u001b[0m\u001b[1;36m3\u001b[0m\u001b[1;33m)\u001b[0m\u001b[1;33m\u001b[0m\u001b[1;33m\u001b[0m\u001b[0m\n\u001b[0m",
      "\u001b[1;31mNameError\u001b[0m: name 'log' is not defined"
     ]
    }
   ],
   "source": [
    "import math\n",
    "from math import cos\n",
    "\n",
    "x = 1 # zasięg w całym skrypcie\n",
    "\n",
    "def funkcja():\n",
    "    # import dla celów prezentacyjnych - wszelkie biblioteki należy dodawać na początku\n",
    "    from math import log\n",
    "    y = 2\n",
    "    z = log(3)\n",
    "    print(y,z)\n",
    "\n",
    "w = math.sin(4)\n",
    "h = cos(5)\n",
    "\n",
    "test = log(3)"
   ]
  },
  {
   "cell_type": "code",
   "execution_count": null,
   "metadata": {},
   "outputs": [],
   "source": []
  },
  {
   "cell_type": "raw",
   "metadata": {},
   "source": [
    "Tworzenie własnych modułów"
   ]
  },
  {
   "cell_type": "code",
   "execution_count": 75,
   "metadata": {},
   "outputs": [
    {
     "name": "stdout",
     "output_type": "stream",
     "text": [
      "Overwriting nowy_modul.py\n"
     ]
    }
   ],
   "source": [
    "%%writefile nowy_modul.py\n",
    "\"\"\"Zbudowany nowy moduł\"\"\"\n",
    "\n",
    "zmienn_globalna = \"Moja zmienna globalna\"\n",
    "\n",
    "def pierwsza_funkcja():\n",
    "    \"\"\"Wyświetla zmienną globalną\"\"\"\n",
    "    print(zmienn_globalna)\n",
    "    \n",
    "def druga_funkcja(slowo=\"\",i=0):\n",
    "    \"\"\"Wyświetla zadany str i-ilość razy\"\"\"\n",
    "    print(slowo*i)"
   ]
  },
  {
   "cell_type": "code",
   "execution_count": 76,
   "metadata": {},
   "outputs": [
    {
     "data": {
      "text/plain": [
       "'Moja zmienna globalna'"
      ]
     },
     "execution_count": 76,
     "metadata": {},
     "output_type": "execute_result"
    }
   ],
   "source": [
    "# importowanie własnego modulu\n",
    "import nowy_modul as nm\n",
    "\n",
    "nm.zmienn_globalna"
   ]
  },
  {
   "cell_type": "code",
   "execution_count": 77,
   "metadata": {},
   "outputs": [
    {
     "name": "stdout",
     "output_type": "stream",
     "text": [
      "Moja zmienna globalna\n"
     ]
    }
   ],
   "source": [
    "nm.pierwsza_funkcja()"
   ]
  },
  {
   "cell_type": "code",
   "execution_count": 78,
   "metadata": {},
   "outputs": [
    {
     "name": "stdout",
     "output_type": "stream",
     "text": [
      "+++++\n"
     ]
    }
   ],
   "source": [
    "nm.druga_funkcja('+',5)"
   ]
  },
  {
   "cell_type": "code",
   "execution_count": 79,
   "metadata": {},
   "outputs": [
    {
     "name": "stdout",
     "output_type": "stream",
     "text": [
      "Help on module nowy_modul:\n",
      "\n",
      "NAME\n",
      "    nowy_modul\n",
      "\n",
      "FUNCTIONS\n",
      "    druga_funkcja(slowo='', i=0)\n",
      "    \n",
      "    pierwsza_funkcja()\n",
      "\n",
      "DATA\n",
      "    zmienn_globalna = 'Moja zmienna globalna'\n",
      "\n",
      "FILE\n",
      "    d:\\owncloud\\wsei\\python\\podstawy_pythona\\5_wyklad\\nowy_modul.py\n",
      "\n",
      "\n"
     ]
    }
   ],
   "source": [
    "# dokumentacja modułu\n",
    "import nowy_modul\n",
    "help(nowy_modul)"
   ]
  },
  {
   "cell_type": "code",
   "execution_count": 96,
   "metadata": {},
   "outputs": [
    {
     "data": {
      "text/plain": [
       "['__builtins__',\n",
       " '__cached__',\n",
       " '__doc__',\n",
       " '__file__',\n",
       " '__loader__',\n",
       " '__name__',\n",
       " '__package__',\n",
       " '__spec__',\n",
       " 'druga_funkcja',\n",
       " 'pierwsza_funkcja',\n",
       " 'zmienn_globalna']"
      ]
     },
     "execution_count": 96,
     "metadata": {},
     "output_type": "execute_result"
    }
   ],
   "source": [
    "# zawartość modułu\n",
    "import nowy_modul\n",
    "\n",
    "dir(nowy_modul)"
   ]
  },
  {
   "cell_type": "code",
   "execution_count": null,
   "metadata": {},
   "outputs": [],
   "source": []
  },
  {
   "cell_type": "raw",
   "metadata": {},
   "source": [
    "Symulowanie zmiennych prywatnych"
   ]
  },
  {
   "cell_type": "code",
   "execution_count": 110,
   "metadata": {},
   "outputs": [
    {
     "name": "stdout",
     "output_type": "stream",
     "text": [
      "Overwriting prywatnosc.py\n"
     ]
    }
   ],
   "source": [
    "%%writefile prywatnosc.py\n",
    "\n",
    "publiczny = \"Dostęp publinczny\"\n",
    "__prywatny = \"Dostęp prywatny\" # zastsowanie _ przd nazwą spowoduje, że zmienna nie będzie dostępna from ... import"
   ]
  },
  {
   "cell_type": "code",
   "execution_count": 111,
   "metadata": {},
   "outputs": [],
   "source": [
    "from prywatnosc import *"
   ]
  },
  {
   "cell_type": "code",
   "execution_count": 112,
   "metadata": {},
   "outputs": [
    {
     "data": {
      "text/plain": [
       "'Dostęp publinczny'"
      ]
     },
     "execution_count": 112,
     "metadata": {},
     "output_type": "execute_result"
    }
   ],
   "source": [
    "publiczny"
   ]
  },
  {
   "cell_type": "code",
   "execution_count": 113,
   "metadata": {},
   "outputs": [
    {
     "ename": "NameError",
     "evalue": "name '__prywatny' is not defined",
     "output_type": "error",
     "traceback": [
      "\u001b[1;31m---------------------------------------------------------------------------\u001b[0m",
      "\u001b[1;31mNameError\u001b[0m                                 Traceback (most recent call last)",
      "\u001b[1;32m<ipython-input-113-762038471597>\u001b[0m in \u001b[0;36m<module>\u001b[1;34m\u001b[0m\n\u001b[1;32m----> 1\u001b[1;33m \u001b[0m__prywatny\u001b[0m\u001b[1;33m\u001b[0m\u001b[1;33m\u001b[0m\u001b[0m\n\u001b[0m",
      "\u001b[1;31mNameError\u001b[0m: name '__prywatny' is not defined"
     ]
    }
   ],
   "source": [
    "__prywatny"
   ]
  },
  {
   "cell_type": "code",
   "execution_count": null,
   "metadata": {},
   "outputs": [],
   "source": []
  }
 ],
 "metadata": {
  "kernelspec": {
   "display_name": "Python 3",
   "language": "python",
   "name": "python3"
  },
  "language_info": {
   "codemirror_mode": {
    "name": "ipython",
    "version": 3
   },
   "file_extension": ".py",
   "mimetype": "text/x-python",
   "name": "python",
   "nbconvert_exporter": "python",
   "pygments_lexer": "ipython3",
   "version": "3.7.2"
  }
 },
 "nbformat": 4,
 "nbformat_minor": 2
}
